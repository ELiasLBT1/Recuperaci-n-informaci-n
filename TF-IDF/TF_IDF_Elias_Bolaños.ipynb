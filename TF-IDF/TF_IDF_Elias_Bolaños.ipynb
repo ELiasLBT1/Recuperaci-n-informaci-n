{
 "cells": [
  {
   "cell_type": "markdown",
   "id": "4a552ba4",
   "metadata": {},
   "source": [
    "# TF-IDF\n",
    "## Nombre: Elias Bolaños"
   ]
  },
  {
   "cell_type": "markdown",
   "id": "0ac198e9",
   "metadata": {},
   "source": [
    "## Paso 1: Obtención de documentos "
   ]
  },
  {
   "cell_type": "code",
   "execution_count": 5,
   "id": "078e4f3c",
   "metadata": {},
   "outputs": [
    {
     "name": "stdout",
     "output_type": "stream",
     "text": [
      "[['ecuador', 'es', 'un', 'país', 'megadiverso,', 'con', 'playas,', 'montañas', 'y', 'selvas', 'ideales', 'para', 'el', 'turismo', 'ecológico.'], ['las', 'islas', 'galápagos', 'atraen', 'visitantes', 'de', 'todo', 'el', 'mundo', 'por', 'su', 'biodiversidad', 'única.'], ['la', 'ciudad', 'de', 'quito', 'cuenta', 'con', 'un', 'centro', 'histórico', 'declarado', 'patrimonio', 'de', 'la', 'humanidad', 'por', 'la', 'unesco.'], ['en', 'baños', 'de', 'agua', 'santa,', 'los', 'turistas', 'disfrutan', 'de', 'deportes', 'de', 'aventura', 'como', 'rafting', 'y', 'canopy.'], ['la', 'ruta', 'del', 'spondylus', 'conecta', 'playas', 'famosas', 'como', 'montañita,', 'salinas', 'y', 'puerto', 'lópez.'], ['otavalo', 'es', 'famoso', 'por', 'su', 'mercado', 'indígena', 'y', 'su', 'vibrante', 'cultura', 'artesanal.'], ['cuenca', 'deslumbra', 'a', 'los', 'turistas', 'con', 'su', 'arquitectura', 'colonial', 'y', 'su', 'gastronomía', 'tradicional.'], ['el', 'volcán', 'cotopaxi', 'ofrece', 'a', 'los', 'excursionistas', 'una', 'de', 'las', 'ascensiones', 'más', 'impresionantes', 'de', 'los', 'andes.'], ['mindo', 'es', 'un', 'paraíso', 'para', 'el', 'avistamiento', 'de', 'aves', 'y', 'la', 'exploración', 'de', 'bosques', 'nublados.'], ['guayaquil', 'sorprende', 'con', 'su', 'malecón', '2000,', 'su', 'vida', 'nocturna', 'y', 'su', 'cercanía', 'a', 'las', 'playas', 'del', 'pacífico.'], ['la', 'laguna', 'quilotoa', 'impacta', 'con', 'su', 'color', 'turquesa', 'y', 'senderos', 'de', 'trekking', 'alrededor', 'del', 'cráter.'], ['en', 'el', 'feriado,', 'muchos', 'ecuatorianos', 'visitan', 'la', 'amazonía', 'para', 'conocer', 'comunidades', 'indígenas', 'y', 'cascadas.'], ['el', 'parque', 'nacional', 'cajas', 'invita', 'a', 'los', 'turistas', 'a', 'caminatas', 'entre', 'lagunas', 'y', 'páramos', 'a', 'gran', 'altitud.'], ['los', 'turistas', 'disfrutan', 'en', 'el', 'feriado', 'de', 'las', 'fiestas', 'locales', 'y', 'de', 'la', 'gastronomía', 'típica', 'de', 'cada', 'región.'], ['vilcabamba,', 'conocido', 'como', 'el', 'valle', 'de', 'la', 'longevidad,', 'atrae', 'visitantes', 'interesados', 'en', 'el', 'bienestar', 'y', 'la', 'naturaleza.'], ['montañita', 'se', 'llena', 'de', 'surfistas', 'y', 'viajeros', 'jóvenes', 'durante', 'los', 'feriados', 'nacionales.']]\n"
     ]
    }
   ],
   "source": [
    "docs = []\n",
    "with open( '01_corpus_turismo.txt', 'r', encoding= 'utf-8') as f:\n",
    "    for linea in f:\n",
    "        palabras = linea.strip().lower().split()\n",
    "        docs.append(palabras)\n",
    "print(docs)"
   ]
  },
  {
   "cell_type": "markdown",
   "id": "c61c6cff",
   "metadata": {},
   "source": [
    "## Paso 2: Extracción de términos únicos"
   ]
  },
  {
   "cell_type": "code",
   "execution_count": 6,
   "id": "de4e5f16",
   "metadata": {},
   "outputs": [
    {
     "name": "stdout",
     "output_type": "stream",
     "text": [
      "['ecuador', 'es', 'un', 'país', 'megadiverso,', 'con', 'playas,', 'montañas', 'y', 'selvas', 'ideales', 'para', 'el', 'turismo', 'ecológico.', 'las', 'islas', 'galápagos', 'atraen', 'visitantes', 'de', 'todo', 'mundo', 'por', 'su', 'biodiversidad', 'única.', 'la', 'ciudad', 'quito', 'cuenta', 'centro', 'histórico', 'declarado', 'patrimonio', 'humanidad', 'unesco.', 'en', 'baños', 'agua', 'santa,', 'los', 'turistas', 'disfrutan', 'deportes', 'aventura', 'como', 'rafting', 'canopy.', 'ruta', 'del', 'spondylus', 'conecta', 'playas', 'famosas', 'montañita,', 'salinas', 'puerto', 'lópez.', 'otavalo', 'famoso', 'mercado', 'indígena', 'vibrante', 'cultura', 'artesanal.', 'cuenca', 'deslumbra', 'a', 'arquitectura', 'colonial', 'gastronomía', 'tradicional.', 'volcán', 'cotopaxi', 'ofrece', 'excursionistas', 'una', 'ascensiones', 'más', 'impresionantes', 'andes.', 'mindo', 'paraíso', 'avistamiento', 'aves', 'exploración', 'bosques', 'nublados.', 'guayaquil', 'sorprende', 'malecón', '2000,', 'vida', 'nocturna', 'cercanía', 'pacífico.', 'laguna', 'quilotoa', 'impacta', 'color', 'turquesa', 'senderos', 'trekking', 'alrededor', 'cráter.', 'feriado,', 'muchos', 'ecuatorianos', 'visitan', 'amazonía', 'conocer', 'comunidades', 'indígenas', 'cascadas.', 'parque', 'nacional', 'cajas', 'invita', 'caminatas', 'entre', 'lagunas', 'páramos', 'gran', 'altitud.', 'feriado', 'fiestas', 'locales', 'típica', 'cada', 'región.', 'vilcabamba,', 'conocido', 'valle', 'longevidad,', 'atrae', 'interesados', 'bienestar', 'naturaleza.', 'montañita', 'se', 'llena', 'surfistas', 'viajeros', 'jóvenes', 'durante', 'feriados', 'nacionales.']\n"
     ]
    }
   ],
   "source": [
    "terminos = []\n",
    "for doc in docs:\n",
    "    for palabra in doc:\n",
    "        if palabra not in terminos:\n",
    "            terminos.append(palabra)\n",
    "print(terminos)"
   ]
  },
  {
   "cell_type": "markdown",
   "id": "642cb1a9",
   "metadata": {},
   "source": [
    "## Paso 3: Cálculo de la matriz TF-IDF"
   ]
  },
  {
   "cell_type": "code",
   "execution_count": 7,
   "id": "94f19e80",
   "metadata": {},
   "outputs": [],
   "source": [
    "import math\n",
    "\n",
    "N = len(docs)\n",
    "matriz = []\n",
    "for termino in terminos:\n",
    "    fila = []\n",
    "    df = 0\n",
    "    for doc in docs:\n",
    "        if termino in doc:\n",
    "            df += 1\n",
    "        \n",
    "    idf = math.log(N / df) if df != 0 else 0\n",
    "\n",
    "    for doc in docs:\n",
    "        tf = doc.count(termino)\n",
    "        tfidf = tf * idf\n",
    "        fila.append(tfidf)\n",
    "    matriz.append(fila)"
   ]
  },
  {
   "cell_type": "markdown",
   "id": "f751ad36",
   "metadata": {},
   "source": [
    "## Paso 4: Visualización de la matriz TF-IDF"
   ]
  },
  {
   "cell_type": "code",
   "execution_count": 8,
   "id": "43c691db",
   "metadata": {},
   "outputs": [
    {
     "name": "stdout",
     "output_type": "stream",
     "text": [
      "Termino          Doc1  Doc2  Doc3  Doc4  Doc5  Doc6  Doc7  Doc8  Doc9 Doc10 Doc11 Doc12 Doc13 Doc14 Doc15 Doc16 \n",
      "----------------------------------------------------------------------------------------------------------------\n",
      "ecuador          2.8    0     0     0     0     0     0     0     0     0     0     0     0     0     0     0   \n",
      "es               1.7    0     0     0     0    1.7    0     0    1.7    0     0     0     0     0     0     0   \n",
      "un               1.7    0    1.7    0     0     0     0     0    1.7    0     0     0     0     0     0     0   \n",
      "país             2.8    0     0     0     0     0     0     0     0     0     0     0     0     0     0     0   \n",
      "megadiverso,     2.8    0     0     0     0     0     0     0     0     0     0     0     0     0     0     0   \n",
      "con              1.2    0    1.2    0     0     0    1.2    0     0    1.2   1.2    0     0     0     0     0   \n",
      "playas,          2.8    0     0     0     0     0     0     0     0     0     0     0     0     0     0     0   \n",
      "montañas         2.8    0     0     0     0     0     0     0     0     0     0     0     0     0     0     0   \n",
      "y                0.2    0     0    0.2   0.2   0.2   0.2    0    0.2   0.2   0.2   0.2   0.2   0.2   0.2   0.2  \n",
      "selvas           2.8    0     0     0     0     0     0     0     0     0     0     0     0     0     0     0   \n",
      "ideales          2.8    0     0     0     0     0     0     0     0     0     0     0     0     0     0     0   \n",
      "para             1.7    0     0     0     0     0     0     0    1.7    0     0    1.7    0     0     0     0   \n",
      "el               0.7   0.7    0     0     0     0     0    0.7   0.7    0     0    0.7   0.7   0.7   1.4    0   \n",
      "turismo          2.8    0     0     0     0     0     0     0     0     0     0     0     0     0     0     0   \n",
      "ecológico.       2.8    0     0     0     0     0     0     0     0     0     0     0     0     0     0     0   \n",
      "las               0    1.4    0     0     0     0     0    1.4    0    1.4    0     0     0    1.4    0     0   \n",
      "islas             0    2.8    0     0     0     0     0     0     0     0     0     0     0     0     0     0   \n",
      "galápagos         0    2.8    0     0     0     0     0     0     0     0     0     0     0     0     0     0   \n",
      "atraen            0    2.8    0     0     0     0     0     0     0     0     0     0     0     0     0     0   \n",
      "visitantes        0    2.1    0     0     0     0     0     0     0     0     0     0     0     0    2.1    0   \n",
      "de                0    0.6   1.2   1.7    0     0     0    1.2   1.2    0    0.6    0     0    1.7   0.6   0.6  \n",
      "todo              0    2.8    0     0     0     0     0     0     0     0     0     0     0     0     0     0   \n",
      "mundo             0    2.8    0     0     0     0     0     0     0     0     0     0     0     0     0     0   \n",
      "por               0    1.7   1.7    0     0    1.7    0     0     0     0     0     0     0     0     0     0   \n",
      "su                0    1.2    0     0     0    2.3   2.3    0     0    3.5   1.2    0     0     0     0     0   \n",
      "biodiversidad     0    2.8    0     0     0     0     0     0     0     0     0     0     0     0     0     0   \n",
      "única.            0    2.8    0     0     0     0     0     0     0     0     0     0     0     0     0     0   \n",
      "la                0     0    2.5    0    0.8    0     0     0    0.8    0    0.8   0.8    0    0.8   1.7    0   \n",
      "ciudad            0     0    2.8    0     0     0     0     0     0     0     0     0     0     0     0     0   \n",
      "quito             0     0    2.8    0     0     0     0     0     0     0     0     0     0     0     0     0   \n",
      "cuenta            0     0    2.8    0     0     0     0     0     0     0     0     0     0     0     0     0   \n",
      "centro            0     0    2.8    0     0     0     0     0     0     0     0     0     0     0     0     0   \n",
      "histórico         0     0    2.8    0     0     0     0     0     0     0     0     0     0     0     0     0   \n",
      "declarado         0     0    2.8    0     0     0     0     0     0     0     0     0     0     0     0     0   \n",
      "patrimonio        0     0    2.8    0     0     0     0     0     0     0     0     0     0     0     0     0   \n",
      "humanidad         0     0    2.8    0     0     0     0     0     0     0     0     0     0     0     0     0   \n",
      "unesco.           0     0    2.8    0     0     0     0     0     0     0     0     0     0     0     0     0   \n",
      "en                0     0     0    1.4    0     0     0     0     0     0     0    1.4    0    1.4   1.4    0   \n",
      "baños             0     0     0    2.8    0     0     0     0     0     0     0     0     0     0     0     0   \n",
      "agua              0     0     0    2.8    0     0     0     0     0     0     0     0     0     0     0     0   \n",
      "santa,            0     0     0    2.8    0     0     0     0     0     0     0     0     0     0     0     0   \n",
      "los               0     0     0    1.0    0     0    1.0   2.0    0     0     0     0    1.0   1.0    0    1.0  \n",
      "turistas          0     0     0    1.4    0     0    1.4    0     0     0     0     0    1.4   1.4    0     0   \n",
      "disfrutan         0     0     0    2.1    0     0     0     0     0     0     0     0     0    2.1    0     0   \n",
      "deportes          0     0     0    2.8    0     0     0     0     0     0     0     0     0     0     0     0   \n",
      "aventura          0     0     0    2.8    0     0     0     0     0     0     0     0     0     0     0     0   \n",
      "como              0     0     0    1.7   1.7    0     0     0     0     0     0     0     0     0    1.7    0   \n",
      "rafting           0     0     0    2.8    0     0     0     0     0     0     0     0     0     0     0     0   \n",
      "canopy.           0     0     0    2.8    0     0     0     0     0     0     0     0     0     0     0     0   \n",
      "ruta              0     0     0     0    2.8    0     0     0     0     0     0     0     0     0     0     0   \n",
      "del               0     0     0     0    1.7    0     0     0     0    1.7   1.7    0     0     0     0     0   \n",
      "spondylus         0     0     0     0    2.8    0     0     0     0     0     0     0     0     0     0     0   \n",
      "conecta           0     0     0     0    2.8    0     0     0     0     0     0     0     0     0     0     0   \n",
      "playas            0     0     0     0    2.1    0     0     0     0    2.1    0     0     0     0     0     0   \n",
      "famosas           0     0     0     0    2.8    0     0     0     0     0     0     0     0     0     0     0   \n",
      "montañita,        0     0     0     0    2.8    0     0     0     0     0     0     0     0     0     0     0   \n",
      "salinas           0     0     0     0    2.8    0     0     0     0     0     0     0     0     0     0     0   \n",
      "puerto            0     0     0     0    2.8    0     0     0     0     0     0     0     0     0     0     0   \n",
      "lópez.            0     0     0     0    2.8    0     0     0     0     0     0     0     0     0     0     0   \n",
      "otavalo           0     0     0     0     0    2.8    0     0     0     0     0     0     0     0     0     0   \n",
      "famoso            0     0     0     0     0    2.8    0     0     0     0     0     0     0     0     0     0   \n",
      "mercado           0     0     0     0     0    2.8    0     0     0     0     0     0     0     0     0     0   \n",
      "indígena          0     0     0     0     0    2.8    0     0     0     0     0     0     0     0     0     0   \n",
      "vibrante          0     0     0     0     0    2.8    0     0     0     0     0     0     0     0     0     0   \n",
      "cultura           0     0     0     0     0    2.8    0     0     0     0     0     0     0     0     0     0   \n",
      "artesanal.        0     0     0     0     0    2.8    0     0     0     0     0     0     0     0     0     0   \n",
      "cuenca            0     0     0     0     0     0    2.8    0     0     0     0     0     0     0     0     0   \n",
      "deslumbra         0     0     0     0     0     0    2.8    0     0     0     0     0     0     0     0     0   \n",
      "a                 0     0     0     0     0     0    1.4   1.4    0    1.4    0     0    4.2    0     0     0   \n",
      "arquitectura      0     0     0     0     0     0    2.8    0     0     0     0     0     0     0     0     0   \n",
      "colonial          0     0     0     0     0     0    2.8    0     0     0     0     0     0     0     0     0   \n",
      "gastronomía       0     0     0     0     0     0    2.1    0     0     0     0     0     0    2.1    0     0   \n",
      "tradicional.      0     0     0     0     0     0    2.8    0     0     0     0     0     0     0     0     0   \n",
      "volcán            0     0     0     0     0     0     0    2.8    0     0     0     0     0     0     0     0   \n",
      "cotopaxi          0     0     0     0     0     0     0    2.8    0     0     0     0     0     0     0     0   \n",
      "ofrece            0     0     0     0     0     0     0    2.8    0     0     0     0     0     0     0     0   \n",
      "excursionistas    0     0     0     0     0     0     0    2.8    0     0     0     0     0     0     0     0   \n",
      "una               0     0     0     0     0     0     0    2.8    0     0     0     0     0     0     0     0   \n",
      "ascensiones       0     0     0     0     0     0     0    2.8    0     0     0     0     0     0     0     0   \n",
      "más               0     0     0     0     0     0     0    2.8    0     0     0     0     0     0     0     0   \n",
      "impresionantes    0     0     0     0     0     0     0    2.8    0     0     0     0     0     0     0     0   \n",
      "andes.            0     0     0     0     0     0     0    2.8    0     0     0     0     0     0     0     0   \n",
      "mindo             0     0     0     0     0     0     0     0    2.8    0     0     0     0     0     0     0   \n",
      "paraíso           0     0     0     0     0     0     0     0    2.8    0     0     0     0     0     0     0   \n",
      "avistamiento      0     0     0     0     0     0     0     0    2.8    0     0     0     0     0     0     0   \n",
      "aves              0     0     0     0     0     0     0     0    2.8    0     0     0     0     0     0     0   \n",
      "exploración       0     0     0     0     0     0     0     0    2.8    0     0     0     0     0     0     0   \n",
      "bosques           0     0     0     0     0     0     0     0    2.8    0     0     0     0     0     0     0   \n",
      "nublados.         0     0     0     0     0     0     0     0    2.8    0     0     0     0     0     0     0   \n",
      "guayaquil         0     0     0     0     0     0     0     0     0    2.8    0     0     0     0     0     0   \n",
      "sorprende         0     0     0     0     0     0     0     0     0    2.8    0     0     0     0     0     0   \n",
      "malecón           0     0     0     0     0     0     0     0     0    2.8    0     0     0     0     0     0   \n",
      "2000,             0     0     0     0     0     0     0     0     0    2.8    0     0     0     0     0     0   \n",
      "vida              0     0     0     0     0     0     0     0     0    2.8    0     0     0     0     0     0   \n",
      "nocturna          0     0     0     0     0     0     0     0     0    2.8    0     0     0     0     0     0   \n",
      "cercanía          0     0     0     0     0     0     0     0     0    2.8    0     0     0     0     0     0   \n",
      "pacífico.         0     0     0     0     0     0     0     0     0    2.8    0     0     0     0     0     0   \n",
      "laguna            0     0     0     0     0     0     0     0     0     0    2.8    0     0     0     0     0   \n",
      "quilotoa          0     0     0     0     0     0     0     0     0     0    2.8    0     0     0     0     0   \n",
      "impacta           0     0     0     0     0     0     0     0     0     0    2.8    0     0     0     0     0   \n",
      "color             0     0     0     0     0     0     0     0     0     0    2.8    0     0     0     0     0   \n",
      "turquesa          0     0     0     0     0     0     0     0     0     0    2.8    0     0     0     0     0   \n",
      "senderos          0     0     0     0     0     0     0     0     0     0    2.8    0     0     0     0     0   \n",
      "trekking          0     0     0     0     0     0     0     0     0     0    2.8    0     0     0     0     0   \n",
      "alrededor         0     0     0     0     0     0     0     0     0     0    2.8    0     0     0     0     0   \n",
      "cráter.           0     0     0     0     0     0     0     0     0     0    2.8    0     0     0     0     0   \n",
      "feriado,          0     0     0     0     0     0     0     0     0     0     0    2.8    0     0     0     0   \n",
      "muchos            0     0     0     0     0     0     0     0     0     0     0    2.8    0     0     0     0   \n",
      "ecuatorianos      0     0     0     0     0     0     0     0     0     0     0    2.8    0     0     0     0   \n",
      "visitan           0     0     0     0     0     0     0     0     0     0     0    2.8    0     0     0     0   \n",
      "amazonía          0     0     0     0     0     0     0     0     0     0     0    2.8    0     0     0     0   \n",
      "conocer           0     0     0     0     0     0     0     0     0     0     0    2.8    0     0     0     0   \n",
      "comunidades       0     0     0     0     0     0     0     0     0     0     0    2.8    0     0     0     0   \n",
      "indígenas         0     0     0     0     0     0     0     0     0     0     0    2.8    0     0     0     0   \n",
      "cascadas.         0     0     0     0     0     0     0     0     0     0     0    2.8    0     0     0     0   \n",
      "parque            0     0     0     0     0     0     0     0     0     0     0     0    2.8    0     0     0   \n",
      "nacional          0     0     0     0     0     0     0     0     0     0     0     0    2.8    0     0     0   \n",
      "cajas             0     0     0     0     0     0     0     0     0     0     0     0    2.8    0     0     0   \n",
      "invita            0     0     0     0     0     0     0     0     0     0     0     0    2.8    0     0     0   \n",
      "caminatas         0     0     0     0     0     0     0     0     0     0     0     0    2.8    0     0     0   \n",
      "entre             0     0     0     0     0     0     0     0     0     0     0     0    2.8    0     0     0   \n",
      "lagunas           0     0     0     0     0     0     0     0     0     0     0     0    2.8    0     0     0   \n",
      "páramos           0     0     0     0     0     0     0     0     0     0     0     0    2.8    0     0     0   \n",
      "gran              0     0     0     0     0     0     0     0     0     0     0     0    2.8    0     0     0   \n",
      "altitud.          0     0     0     0     0     0     0     0     0     0     0     0    2.8    0     0     0   \n",
      "feriado           0     0     0     0     0     0     0     0     0     0     0     0     0    2.8    0     0   \n",
      "fiestas           0     0     0     0     0     0     0     0     0     0     0     0     0    2.8    0     0   \n",
      "locales           0     0     0     0     0     0     0     0     0     0     0     0     0    2.8    0     0   \n",
      "típica            0     0     0     0     0     0     0     0     0     0     0     0     0    2.8    0     0   \n",
      "cada              0     0     0     0     0     0     0     0     0     0     0     0     0    2.8    0     0   \n",
      "región.           0     0     0     0     0     0     0     0     0     0     0     0     0    2.8    0     0   \n",
      "vilcabamba,       0     0     0     0     0     0     0     0     0     0     0     0     0     0    2.8    0   \n",
      "conocido          0     0     0     0     0     0     0     0     0     0     0     0     0     0    2.8    0   \n",
      "valle             0     0     0     0     0     0     0     0     0     0     0     0     0     0    2.8    0   \n",
      "longevidad,       0     0     0     0     0     0     0     0     0     0     0     0     0     0    2.8    0   \n",
      "atrae             0     0     0     0     0     0     0     0     0     0     0     0     0     0    2.8    0   \n",
      "interesados       0     0     0     0     0     0     0     0     0     0     0     0     0     0    2.8    0   \n",
      "bienestar         0     0     0     0     0     0     0     0     0     0     0     0     0     0    2.8    0   \n",
      "naturaleza.       0     0     0     0     0     0     0     0     0     0     0     0     0     0    2.8    0   \n",
      "montañita         0     0     0     0     0     0     0     0     0     0     0     0     0     0     0    2.8  \n",
      "se                0     0     0     0     0     0     0     0     0     0     0     0     0     0     0    2.8  \n",
      "llena             0     0     0     0     0     0     0     0     0     0     0     0     0     0     0    2.8  \n",
      "surfistas         0     0     0     0     0     0     0     0     0     0     0     0     0     0     0    2.8  \n",
      "viajeros          0     0     0     0     0     0     0     0     0     0     0     0     0     0     0    2.8  \n",
      "jóvenes           0     0     0     0     0     0     0     0     0     0     0     0     0     0     0    2.8  \n",
      "durante           0     0     0     0     0     0     0     0     0     0     0     0     0     0     0    2.8  \n",
      "feriados          0     0     0     0     0     0     0     0     0     0     0     0     0     0     0    2.8  \n",
      "nacionales.       0     0     0     0     0     0     0     0     0     0     0     0     0     0     0    2.8  \n"
     ]
    }
   ],
   "source": [
    "ancho_termino = max(len(\"Término\"), max(len(termino) for termino in terminos))+2\n",
    "Ancho_doc = 6 \n",
    "\n",
    "print(f\"{'Termino': <{ancho_termino}}\", end='')\n",
    "for i in range(N):\n",
    "    print(f\"{'Doc'+str(i+1): ^{Ancho_doc}}\", end='')\n",
    "print()\n",
    "\n",
    "print('-' * (ancho_termino + Ancho_doc * N))\n",
    "\n",
    "for i, termino in enumerate(terminos):\n",
    "    print(f\"{termino:<{ancho_termino}}\", end='')\n",
    "    for valor in matriz[i]:\n",
    "        if valor == int(valor):\n",
    "            print(f\"{int(valor):^{Ancho_doc}}\", end='')\n",
    "        else:\n",
    "            print(f\"{valor:^{Ancho_doc}.1f}\", end='')\n",
    "    print()"
   ]
  }
 ],
 "metadata": {
  "kernelspec": {
   "display_name": "Python 3",
   "language": "python",
   "name": "python3"
  },
  "language_info": {
   "codemirror_mode": {
    "name": "ipython",
    "version": 3
   },
   "file_extension": ".py",
   "mimetype": "text/x-python",
   "name": "python",
   "nbconvert_exporter": "python",
   "pygments_lexer": "ipython3",
   "version": "3.12.10"
  }
 },
 "nbformat": 4,
 "nbformat_minor": 5
}
