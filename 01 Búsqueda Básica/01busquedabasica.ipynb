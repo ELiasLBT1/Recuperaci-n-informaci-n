{
 "cells": [
  {
   "cell_type": "markdown",
   "id": "20980d198e5f991c",
   "metadata": {},
   "source": [
    "# Ejercicio 1: Introducción a Recuperación de Información\n",
    "### Nombre: Elias Bolaños\n",
    "### Curso: GR1CC\n",
    "## Objetivo de la práctica\n",
    "- Entender el problema de **buscar información** en colecciones de texto.\n",
    "- Comprender por qué se necesita un **índice invertido** en recuperación de información.\n",
    "- Programar una primera solución manual y luego optimizarla con un índice.\n",
    "- Evaluar la mejora en tiempos de búsqueda cuando usamos estructuras adecuadas."
   ]
  },
  {
   "cell_type": "markdown",
   "id": "175182ac2f1f542c",
   "metadata": {},
   "source": [
    "## Parte 1: Búsqueda lineal en documentos\n",
    "\n",
    "### Actividad\n",
    "1. Se te proporcionará un conjunto de documentos de texto.\n",
    "2. Escribe una función que:\n",
    "   - Lea todos los documentos.\n",
    "   - Busque una palabra ingresada por el usuario.\n",
    "   - Muestre en qué documentos aparece la palabra."
   ]
  },
  {
   "cell_type": "code",
   "execution_count": 18,
   "id": "initial_id",
   "metadata": {
    "collapsed": true
   },
   "outputs": [
    {
     "name": "stdout",
     "output_type": "stream",
     "text": [
      "El libro numero 4: Quito tiene un centro histórico Patrimonio de la Humanidad Perfecto para surf.\n",
      "El libro numero 16: Quito tiene un centro histórico Patrimonio de la Humanidad Ideal para el próximo feriado.\n",
      "El libro numero 17: Quito tiene un centro histórico Patrimonio de la Humanidad Un lugar sorprendente para visitar.\n",
      "El libro numero 39: Quito tiene un centro histórico Patrimonio de la Humanidad Perfecto para rafting.\n",
      "El libro numero 43: Quito tiene un centro histórico Patrimonio de la Humanidad Perfecto para senderismo.\n",
      "El libro numero 73: Quito tiene un centro histórico Patrimonio de la Humanidad Ideal para el próximo feriado.\n",
      "El libro numero 75: Quito tiene un centro histórico Patrimonio de la Humanidad Ideal para el próximo feriado.\n",
      "El libro numero 89: Quito tiene un centro histórico Patrimonio de la Humanidad\n",
      "El libro numero 104: Quito tiene un centro histórico Patrimonio de la Humanidad Perfecto para canopy.\n",
      "El libro numero 136: Quito tiene un centro histórico Patrimonio de la Humanidad Perfecto para canopy.\n",
      "El libro numero 201: Quito tiene un centro histórico Patrimonio de la Humanidad Un lugar sorprendente para visitar.\n",
      "El libro numero 213: Quito tiene un centro histórico Patrimonio de la Humanidad Ideal para el próximo feriado.\n",
      "El libro numero 238: Quito tiene un centro histórico Patrimonio de la Humanidad Perfecto para senderismo.\n",
      "El libro numero 260: Quito tiene un centro histórico Patrimonio de la Humanidad Un lugar auténtico para visitar.\n",
      "El libro numero 291: Quito tiene un centro histórico Patrimonio de la Humanidad Perfecto para rafting.\n",
      "El libro numero 325: Quito tiene un centro histórico Patrimonio de la Humanidad Ideal para el próximo feriado.\n",
      "El libro numero 355: Quito tiene un centro histórico Patrimonio de la Humanidad Perfecto para surf.\n",
      "El libro numero 391: Quito tiene un centro histórico Patrimonio de la Humanidad Un lugar tranquilo para visitar.\n",
      "El libro numero 469: Quito tiene un centro histórico Patrimonio de la Humanidad\n",
      "El libro numero 487: Quito tiene un centro histórico Patrimonio de la Humanidad Ideal para el próximo feriado.\n"
     ]
    }
   ],
   "source": [
    "archivo = '01_corpus_turismo_500.txt'\n",
    "palabra = input(\"palabra a buscar: \")\n",
    "with open(archivo, 'r', encoding='utf-8') as f:\n",
    "    lineas = f.readlines()\n",
    "encontrado = False\n",
    "for i, linea in enumerate(lineas, start=1):\n",
    "    if palabra in linea:\n",
    "        print(f\"El libro numero {i}: {linea.strip()}\")\n",
    "        encontrado = True\n",
    "if not encontrado:\n",
    "    print(\"la palabra no se encontro\")\n",
    "\n"
   ]
  },
  {
   "cell_type": "markdown",
   "id": "57c9797b0bf7f4bb",
   "metadata": {},
   "source": [
    "## Parte 2: Construcción de un índice invertido\n",
    "\n",
    "### Actividad\n",
    "1. Escribe un programa que:\n",
    "   - Recorra todos los documentos.\n",
    "   - Construya un **índice invertido**, es decir, un diccionario donde:\n",
    "     - Cada palabra clave apunta a una lista de documentos donde aparece.\n",
    "\n",
    "2. Escribe una nueva función de búsqueda que:\n",
    "   - Consulte directamente el índice para encontrar los documentos relevantes.\n",
    "   - Sea mucho más rápida que la búsqueda lineal."
   ]
  },
  {
   "cell_type": "code",
   "execution_count": 17,
   "id": "34e7a4522b06d969",
   "metadata": {},
   "outputs": [
    {
     "name": "stdout",
     "output_type": "stream",
     "text": [
      "Quito:\n",
      "  Línea 104: Quito tiene un centro histórico Patrimonio de la Humanidad Perfecto para canopy.\n",
      "  Línea 136: Quito tiene un centro histórico Patrimonio de la Humanidad Perfecto para canopy.\n",
      "  Línea 16: Quito tiene un centro histórico Patrimonio de la Humanidad Ideal para el próximo feriado.\n",
      "  Línea 17: Quito tiene un centro histórico Patrimonio de la Humanidad Un lugar sorprendente para visitar.\n",
      "  Línea 201: Quito tiene un centro histórico Patrimonio de la Humanidad Un lugar sorprendente para visitar.\n",
      "  Línea 213: Quito tiene un centro histórico Patrimonio de la Humanidad Ideal para el próximo feriado.\n",
      "  Línea 238: Quito tiene un centro histórico Patrimonio de la Humanidad Perfecto para senderismo.\n",
      "  Línea 260: Quito tiene un centro histórico Patrimonio de la Humanidad Un lugar auténtico para visitar.\n",
      "  Línea 291: Quito tiene un centro histórico Patrimonio de la Humanidad Perfecto para rafting.\n",
      "  Línea 325: Quito tiene un centro histórico Patrimonio de la Humanidad Ideal para el próximo feriado.\n",
      "  Línea 355: Quito tiene un centro histórico Patrimonio de la Humanidad Perfecto para surf.\n",
      "  Línea 391: Quito tiene un centro histórico Patrimonio de la Humanidad Un lugar tranquilo para visitar.\n",
      "  Línea 39: Quito tiene un centro histórico Patrimonio de la Humanidad Perfecto para rafting.\n",
      "  Línea 43: Quito tiene un centro histórico Patrimonio de la Humanidad Perfecto para senderismo.\n",
      "  Línea 469: Quito tiene un centro histórico Patrimonio de la Humanidad\n",
      "  Línea 487: Quito tiene un centro histórico Patrimonio de la Humanidad Ideal para el próximo feriado.\n",
      "  Línea 4: Quito tiene un centro histórico Patrimonio de la Humanidad Perfecto para surf.\n",
      "  Línea 73: Quito tiene un centro histórico Patrimonio de la Humanidad Ideal para el próximo feriado.\n",
      "  Línea 75: Quito tiene un centro histórico Patrimonio de la Humanidad Ideal para el próximo feriado.\n",
      "  Línea 89: Quito tiene un centro histórico Patrimonio de la Humanidad\n",
      "centro:\n",
      "  Línea 104: Quito tiene un centro histórico Patrimonio de la Humanidad Perfecto para canopy.\n",
      "  Línea 136: Quito tiene un centro histórico Patrimonio de la Humanidad Perfecto para canopy.\n",
      "  Línea 16: Quito tiene un centro histórico Patrimonio de la Humanidad Ideal para el próximo feriado.\n",
      "  Línea 17: Quito tiene un centro histórico Patrimonio de la Humanidad Un lugar sorprendente para visitar.\n",
      "  Línea 201: Quito tiene un centro histórico Patrimonio de la Humanidad Un lugar sorprendente para visitar.\n",
      "  Línea 213: Quito tiene un centro histórico Patrimonio de la Humanidad Ideal para el próximo feriado.\n",
      "  Línea 238: Quito tiene un centro histórico Patrimonio de la Humanidad Perfecto para senderismo.\n",
      "  Línea 260: Quito tiene un centro histórico Patrimonio de la Humanidad Un lugar auténtico para visitar.\n",
      "  Línea 291: Quito tiene un centro histórico Patrimonio de la Humanidad Perfecto para rafting.\n",
      "  Línea 325: Quito tiene un centro histórico Patrimonio de la Humanidad Ideal para el próximo feriado.\n",
      "  Línea 355: Quito tiene un centro histórico Patrimonio de la Humanidad Perfecto para surf.\n",
      "  Línea 391: Quito tiene un centro histórico Patrimonio de la Humanidad Un lugar tranquilo para visitar.\n",
      "  Línea 39: Quito tiene un centro histórico Patrimonio de la Humanidad Perfecto para rafting.\n",
      "  Línea 43: Quito tiene un centro histórico Patrimonio de la Humanidad Perfecto para senderismo.\n",
      "  Línea 469: Quito tiene un centro histórico Patrimonio de la Humanidad\n",
      "  Línea 487: Quito tiene un centro histórico Patrimonio de la Humanidad Ideal para el próximo feriado.\n",
      "  Línea 4: Quito tiene un centro histórico Patrimonio de la Humanidad Perfecto para surf.\n",
      "  Línea 73: Quito tiene un centro histórico Patrimonio de la Humanidad Ideal para el próximo feriado.\n",
      "  Línea 75: Quito tiene un centro histórico Patrimonio de la Humanidad Ideal para el próximo feriado.\n",
      "  Línea 89: Quito tiene un centro histórico Patrimonio de la Humanidad\n"
     ]
    }
   ],
   "source": [
    "archivo = '01_corpus_turismo_500.txt'\n",
    "\n",
    "dictionary = {}\n",
    "with open(archivo, 'r', encoding='utf-8') as f:\n",
    "    lineas = f.readlines()\n",
    "    for i, linea in enumerate(lineas, start=1):\n",
    "        palabras = linea.strip().split()\n",
    "        for palabra in palabras:\n",
    "            if palabra not in dictionary:\n",
    "                dictionary[palabra] = set()\n",
    "            dictionary[palabra].add(f\"Línea {i}: {linea.strip()}\")\n",
    "\n",
    "entrada = input(\"Palabras a buscar (separadas por espacio): \")\n",
    "palabras = entrada.split()\n",
    "\n",
    "for palabra in palabras:\n",
    "    if palabra in dictionary:\n",
    "        print(f\"{palabra}:\")\n",
    "        for resultado in sorted(dictionary[palabra]):\n",
    "            print(f\"  {resultado}\")\n",
    "    else:\n",
    "        print(f\"{palabra}: No se encontró\")"
   ]
  },
  {
   "cell_type": "markdown",
   "id": "3f311d0944a2f98d",
   "metadata": {},
   "source": [
    "## Parte 3: Evaluación de tiempos de búsqueda\n",
    "### Actividad\n",
    "\n",
    "1. Realiza la búsqueda de varias palabras usando:\n",
    "      -  Corpus pequeño: 16 documentos (turismo en Ecuador).\n",
    "      -  Corpus grande: 500 documentos (versión ampliada).\n",
    "2. Mide el tiempo de ejecución:\n",
    "      -  Para búsqueda lineal.\n",
    "      -  Para búsqueda usando índice invertido.\n",
    "      -  Grafica o presenta los resultados en una tabla comparativa.\n",
    "\n",
    "### Ejemplo de palabras para buscar\n",
    "- quito\n",
    "- montañita\n",
    "- feriado\n",
    "- playas\n",
    "- aventura\n",
    "- galápagos"
   ]
  },
  {
   "cell_type": "code",
   "execution_count": 16,
   "id": "15211fcaadfeb175",
   "metadata": {},
   "outputs": [
    {
     "name": "stdout",
     "output_type": "stream",
     "text": [
      "     Palabra  Lineal (ms)  Índice invertido (ms)\n",
      "0      quito       0.0831                 0.0040\n",
      "1  montañita       0.0785                 0.0007\n",
      "2    feriado       0.0805                 0.0003\n",
      "3     playas       0.0766                 0.0005\n",
      "4   aventura       0.0775                 0.0003\n",
      "5  galápagos       0.0743                 0.0004\n"
     ]
    },
    {
     "data": {
      "image/png": "[encoded data removed]",
      "text/plain": [
       "<Figure size 640x480 with 1 Axes>"
      ]
     },
     "metadata": {},
     "output_type": "display_data"
    }
   ],
   "source": [
    "import time\n",
    "import matplotlib.pyplot as plt\n",
    "import pandas as pd\n",
    "\n",
    "archivo = '01_corpus_turismo_500.txt'\n",
    "palabras_buscar = [\"quito\", \"montañita\", \"feriado\", \"playas\", \"aventura\", \"galápagos\"]\n",
    "\n",
    "with open(archivo, 'r', encoding='utf-8') as f:\n",
    "    lineas = f.readlines()\n",
    "\n",
    "#búsqueda lineal\n",
    "tiempos_lineal = []\n",
    "for palabra in palabras_buscar:\n",
    "    start = time.perf_counter()\n",
    "    encontrado = False\n",
    "    for i, linea in enumerate(lineas, start=1):\n",
    "        if palabra in linea:\n",
    "            encontrado = True\n",
    "    end = time.perf_counter()\n",
    "    tiempos_lineal.append((end - start) * 1000)\n",
    "\n",
    "#índice invertido\n",
    "dictionary = {}\n",
    "for i, linea in enumerate(lineas, start=1):\n",
    "    palabras = linea.strip().split()\n",
    "    for palabra in palabras:\n",
    "        if palabra not in dictionary:\n",
    "            dictionary[palabra] = []\n",
    "        dictionary[palabra].append(f\"Línea {i}: {linea.strip()}\")\n",
    "\n",
    "tiempos_indice = []\n",
    "for palabra in palabras_buscar:\n",
    "    start = time.perf_counter()\n",
    "    _ = dictionary.get(palabra, [])\n",
    "    end = time.perf_counter()\n",
    "    tiempos_indice.append((end - start) * 1000)\n",
    "\n",
    "df = pd.DataFrame({\n",
    "    \"Palabra\": palabras_buscar,\n",
    "    \"Lineal (ms)\": tiempos_lineal,\n",
    "    \"Índice invertido (ms)\": tiempos_indice\n",
    "})\n",
    "print(df)\n",
    "df.plot(x=\"Palabra\", y=[\"Lineal (ms)\", \"Índice invertido (ms)\"], kind=\"bar\")\n",
    "plt.ylabel(\"Tiempo (milisegundos)\")\n",
    "plt.title(\"Comparación de tiempos de búsqueda (sensible a mayúsculas)\")\n",
    "plt.show()"
   ]
  },
  {
   "cell_type": "markdown",
   "id": "93a841af5ef64dd7",
   "metadata": {},
   "source": [
    "## Parte 4:\n",
    "### Actividad\n",
    "1. Modifica el índice para que ignore mayúsculas/minúsculas (por ejemplo, \"Playa\" y \"playa\" deben considerarse iguales).\n",
    "2. Permite consultas de múltiples términos (ejemplo: buscar documentos que contengan \"playa\" y \"turismo\").\n",
    "3. Calcula el _speedup_"
   ]
  },
  {
   "cell_type": "code",
   "execution_count": 15,
   "id": "66741cbd7ba00bb6",
   "metadata": {},
   "outputs": [
    {
     "name": "stdout",
     "output_type": "stream",
     "text": [
      "líneas donde aparecen todas las palabras:\n",
      "Línea 104: Quito tiene un centro histórico Patrimonio de la Humanidad Perfecto para canopy.\n",
      "Línea 136: Quito tiene un centro histórico Patrimonio de la Humanidad Perfecto para canopy.\n",
      "Línea 16: Quito tiene un centro histórico Patrimonio de la Humanidad Ideal para el próximo feriado.\n",
      "Línea 17: Quito tiene un centro histórico Patrimonio de la Humanidad Un lugar sorprendente para visitar.\n",
      "Línea 201: Quito tiene un centro histórico Patrimonio de la Humanidad Un lugar sorprendente para visitar.\n",
      "Línea 213: Quito tiene un centro histórico Patrimonio de la Humanidad Ideal para el próximo feriado.\n",
      "Línea 238: Quito tiene un centro histórico Patrimonio de la Humanidad Perfecto para senderismo.\n",
      "Línea 260: Quito tiene un centro histórico Patrimonio de la Humanidad Un lugar auténtico para visitar.\n",
      "Línea 291: Quito tiene un centro histórico Patrimonio de la Humanidad Perfecto para rafting.\n",
      "Línea 325: Quito tiene un centro histórico Patrimonio de la Humanidad Ideal para el próximo feriado.\n",
      "Línea 355: Quito tiene un centro histórico Patrimonio de la Humanidad Perfecto para surf.\n",
      "Línea 391: Quito tiene un centro histórico Patrimonio de la Humanidad Un lugar tranquilo para visitar.\n",
      "Línea 39: Quito tiene un centro histórico Patrimonio de la Humanidad Perfecto para rafting.\n",
      "Línea 43: Quito tiene un centro histórico Patrimonio de la Humanidad Perfecto para senderismo.\n",
      "Línea 469: Quito tiene un centro histórico Patrimonio de la Humanidad\n",
      "Línea 487: Quito tiene un centro histórico Patrimonio de la Humanidad Ideal para el próximo feriado.\n",
      "Línea 4: Quito tiene un centro histórico Patrimonio de la Humanidad Perfecto para surf.\n",
      "Línea 73: Quito tiene un centro histórico Patrimonio de la Humanidad Ideal para el próximo feriado.\n",
      "Línea 75: Quito tiene un centro histórico Patrimonio de la Humanidad Ideal para el próximo feriado.\n",
      "Línea 89: Quito tiene un centro histórico Patrimonio de la Humanidad\n",
      "tiempo con índice invertido: 0.1719 ms\n",
      "tiempo con búsqueda lineal: 1.1529 ms\n",
      "speedup: 6.71x\n"
     ]
    }
   ],
   "source": [
    "import time\n",
    "\n",
    "archivo = '01_corpus_turismo_500.txt'\n",
    "dictionary = {}\n",
    "with open(archivo, 'r', encoding='utf-8') as f:\n",
    "    lineas = f.readlines()\n",
    "    for i, linea in enumerate(lineas, start=1):\n",
    "        palabras = linea.strip().split()\n",
    "        for palabra in palabras:\n",
    "            palabra = palabra.lower()\n",
    "            if palabra not in dictionary:\n",
    "                dictionary[palabra] = []\n",
    "            dictionary[palabra].append(f\"Línea {i}: {linea.strip()}\")\n",
    "\n",
    "entrada = input(\"palabras a buscar (separadas por espacio): \")\n",
    "palabras = entrada.lower().split()\n",
    "\n",
    "#índice invertido\n",
    "t1 = time.perf_counter()\n",
    "if palabras:\n",
    "    resultado = set(dictionary.get(palabras[0], []))\n",
    "    for palabra in palabras[1:]:\n",
    "        resultado = resultado & set(dictionary.get(palabra, []))\n",
    "else:\n",
    "    resultado = set()\n",
    "t2 = time.perf_counter()\n",
    "\n",
    "if resultado:\n",
    "    print(\"líneas donde aparecen todas las palabras:\")\n",
    "    for res in sorted(resultado):\n",
    "        print(res)\n",
    "else:\n",
    "    print(\"no se encontraron líneas con todas las palabras.\")\n",
    "\n",
    "print(f\"tiempo con índice invertido: {(t2-t1)*1000:.4f} ms\")\n",
    "\n",
    "#búsqueda lineal\n",
    "t3 = time.perf_counter()\n",
    "resultado_lineal = set()\n",
    "for i, linea in enumerate(lineas, start=1):\n",
    "    if all(palabra in linea.lower() for palabra in palabras):\n",
    "        resultado_lineal.add(f\"Línea {i}: {linea.strip()}\")\n",
    "t4 = time.perf_counter()\n",
    "print(f\"tiempo con búsqueda lineal: {(t4-t3)*1000:.4f} ms\")\n",
    "if (t2-t1) > 0:\n",
    "    print(f\"speedup: {(t4-t3)/(t2-t1):.2f}x\")\n",
    "else:\n",
    "    print(\"speedup: infinito (índice demasiado rápido)\")"
   ]
  }
 ],
 "metadata": {
  "kernelspec": {
   "display_name": "Python 3",
   "language": "python",
   "name": "python3"
  },
  "language_info": {
   "codemirror_mode": {
    "name": "ipython",
    "version": 3
   },
   "file_extension": ".py",
   "mimetype": "text/x-python",
   "name": "python",
   "nbconvert_exporter": "python",
   "pygments_lexer": "ipython3",
   "version": "3.12.10"
  }
 },
 "nbformat": 4,
 "nbformat_minor": 5
}
